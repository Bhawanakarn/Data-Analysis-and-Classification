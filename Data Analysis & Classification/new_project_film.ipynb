{
 "cells": [
  {
   "cell_type": "code",
   "execution_count": 1,
   "metadata": {},
   "outputs": [
    {
     "ename": "ModuleNotFoundError",
     "evalue": "No module named 'googlesearch'",
     "output_type": "error",
     "traceback": [
      "\u001b[0;31m---------------------------------------------------------------------------\u001b[0m",
      "\u001b[0;31mModuleNotFoundError\u001b[0m                       Traceback (most recent call last)",
      "\u001b[0;32m<ipython-input-1-daf99296a4f6>\u001b[0m in \u001b[0;36m<module>\u001b[0;34m\u001b[0m\n\u001b[1;32m      1\u001b[0m \u001b[0;32mimport\u001b[0m \u001b[0murllib\u001b[0m\u001b[0;34m.\u001b[0m\u001b[0mrequest\u001b[0m\u001b[0;34m\u001b[0m\u001b[0;34m\u001b[0m\u001b[0m\n\u001b[0;32m----> 2\u001b[0;31m \u001b[0;32mfrom\u001b[0m \u001b[0mgooglesearch\u001b[0m \u001b[0;32mimport\u001b[0m \u001b[0msearch\u001b[0m\u001b[0;34m\u001b[0m\u001b[0;34m\u001b[0m\u001b[0m\n\u001b[0m\u001b[1;32m      3\u001b[0m \u001b[0;32mimport\u001b[0m \u001b[0mpandas\u001b[0m \u001b[0;32mas\u001b[0m \u001b[0mpd\u001b[0m\u001b[0;34m\u001b[0m\u001b[0;34m\u001b[0m\u001b[0m\n\u001b[1;32m      4\u001b[0m \u001b[0;34m\u001b[0m\u001b[0m\n\u001b[1;32m      5\u001b[0m \u001b[0;34m\u001b[0m\u001b[0m\n",
      "\u001b[0;31mModuleNotFoundError\u001b[0m: No module named 'googlesearch'"
     ]
    }
   ],
   "source": [
    "import urllib.request\n",
    "from googlesearch import search\n",
    "import pandas as pd\n",
    "\n",
    "\n",
    "# load our file\n",
    "file = pd.read_csv(\"data.csv\")\n",
    "\n",
    "# convert the column into list\n",
    "querys = file[\"NameOfTheFilms\"].tolist() \n",
    "\n",
    "'''\n",
    "# prints website for the movie name\n",
    "for query in querys:\n",
    "    query = query + \" wikipedia \" + \"movie\"\n",
    "    for j in search(query, tld=\"co.in\", num=10, stop=1, pause=2):\n",
    "        print(j)\n",
    "'''\n",
    "\n",
    "# our type\n",
    "type = [\"religious\", \"nationalist\", \"other\"]\n",
    "\n",
    "# dictionary to count number of occurrences of keywords and initialize the dict\n",
    "dict ={}\n",
    "for t in type:\n",
    "    dict[t] = 0\n",
    "\n",
    "# keywords for specific type\n",
    "religious = [\"Hindu\", \"Hindus\", \"Hinduism\", \"Muslim\", \"Muslims\", \"Islam\", \"Islamic\", \"Islamism\", \"Sikh\", \"Sikhs\", \"Sikhism\"]\n",
    "nationalist = [\"China\", \"Chinese\", \"Pakistan\", \"Pakistani\", \"British\", \"Britain\"]\n",
    "others = [\"Love\", \"Romance\", \"Melody\", \"Love\", \"Parenthood\", \"Romantic\", \"Suspense\"]\n",
    "\n",
    "# making a list of the type\n",
    "keywords = [religious, nationalist, others]\n",
    "\n",
    "# list of websites\n",
    "websites = file[\"Websites\"].tolist()\n",
    "\n",
    "for link in websites:\n",
    "    webUrl = urllib.request.urlopen(link)\n",
    "    data = webUrl.read()\n",
    "    words = data.decode('utf-8').split(' ')\n",
    "\n",
    "    for word in words:\n",
    "        for i in range(len(keywords)):\n",
    "            for k in keywords[i]:\n",
    "                if word.lower() == k.lower():\n",
    "                    dict[type[i]] += 1\n",
    "\n",
    "print(\"Running our code...\")\n",
    "print(dict)"
   ]
  },
  {
   "cell_type": "code",
   "execution_count": null,
   "metadata": {},
   "outputs": [],
   "source": []
  }
 ],
 "metadata": {
  "kernelspec": {
   "display_name": "Python 3",
   "language": "python",
   "name": "python3"
  },
  "language_info": {
   "codemirror_mode": {
    "name": "ipython",
    "version": 3
   },
   "file_extension": ".py",
   "mimetype": "text/x-python",
   "name": "python",
   "nbconvert_exporter": "python",
   "pygments_lexer": "ipython3",
   "version": "3.7.4"
  }
 },
 "nbformat": 4,
 "nbformat_minor": 2
}
